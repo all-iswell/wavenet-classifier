{
 "cells": [
  {
   "cell_type": "code",
   "execution_count": 1,
   "metadata": {
    "collapsed": true
   },
   "outputs": [],
   "source": [
    "import pydub as pdb"
   ]
  },
  {
   "cell_type": "code",
   "execution_count": 6,
   "metadata": {},
   "outputs": [],
   "source": [
    "np_ex = np.loadtxt('../_data/example/cnn_data_music.csv', delimiter=',', skiprows=1)"
   ]
  },
  {
   "cell_type": "code",
   "execution_count": 7,
   "metadata": {},
   "outputs": [
    {
     "data": {
      "text/plain": [
       "array([[ 1.       ,  0.0040262,  0.0034028, ...,  0.0029614,  0.0055511,\n",
       "         0.0087794],\n",
       "       [ 1.       ,  0.0066332,  0.016216 , ...,  0.08834  ,  0.074713 ,\n",
       "        -0.024003 ],\n",
       "       [ 1.       , -0.085643 , -0.06893  , ...,  0.1551   ,  0.13572  ,\n",
       "         0.034285 ],\n",
       "       ..., \n",
       "       [ 1.       , -0.4173   , -0.36285  , ...,  0.020283 , -0.0082585,\n",
       "        -0.0099858],\n",
       "       [ 1.       ,  0.053838 ,  0.17383  , ..., -0.60765  , -0.2752   ,\n",
       "         0.22638  ],\n",
       "       [ 1.       ,  0.63209  ,  0.81484  , ...,  0.085933 ,  0.0223   ,\n",
       "         0.20483  ]])"
      ]
     },
     "execution_count": 7,
     "metadata": {},
     "output_type": "execute_result"
    }
   ],
   "source": [
    "np_ex[:2000]"
   ]
  },
  {
   "cell_type": "code",
   "execution_count": 8,
   "metadata": {},
   "outputs": [
    {
     "data": {
      "text/plain": [
       "(4151, 2001)"
      ]
     },
     "execution_count": 8,
     "metadata": {},
     "output_type": "execute_result"
    }
   ],
   "source": [
    "np_ex.shape"
   ]
  }
 ],
 "metadata": {
  "kernelspec": {
   "display_name": "Python (proj3)",
   "language": "python",
   "name": "proj3"
  },
  "language_info": {
   "codemirror_mode": {
    "name": "ipython",
    "version": 3
   },
   "file_extension": ".py",
   "mimetype": "text/x-python",
   "name": "python",
   "nbconvert_exporter": "python",
   "pygments_lexer": "ipython3",
   "version": "3.6.3"
  }
 },
 "nbformat": 4,
 "nbformat_minor": 2
}
