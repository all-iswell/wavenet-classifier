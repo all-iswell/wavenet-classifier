{
 "cells": [
  {
   "cell_type": "code",
   "execution_count": 1,
   "metadata": {},
   "outputs": [
    {
     "name": "stderr",
     "output_type": "stream",
     "text": [
      "/home/aeatda/anaconda3/envs/proj3/lib/python3.6/importlib/_bootstrap.py:219: RuntimeWarning: compiletime version 3.5 of module 'tensorflow.python.framework.fast_tensor_util' does not match runtime version 3.6\n",
      "  return f(*args, **kwds)\n"
     ]
    }
   ],
   "source": [
    "# Imports\n",
    "from __future__ import division\n",
    "from __future__ import print_function\n",
    "\n",
    "import argparse\n",
    "from datetime import datetime\n",
    "import json\n",
    "import os\n",
    "import sys\n",
    "import time\n",
    "\n",
    "import tensorflow as tf\n",
    "import numpy as np\n",
    "from tensorflow.python.client import timeline\n"
   ]
  },
  {
   "cell_type": "code",
   "execution_count": 2,
   "metadata": {
    "collapsed": true
   },
   "outputs": [],
   "source": [
    "SAMPLE_SIZE = 3600"
   ]
  },
  {
   "cell_type": "code",
   "execution_count": 3,
   "metadata": {},
   "outputs": [
    {
     "name": "stdout",
     "output_type": "stream",
     "text": [
      "filter_width          2\n",
      "sample_rate           22050\n",
      "dilations             [1, 2, 4, 8, 16, 32, 64, 128, 256, 512, 1, 2, 4, 8, 16, 32, 64, 128, 256, 512]\n",
      "residual_channels     16\n",
      "dilation_channels     16\n",
      "quantization_channels 256\n",
      "skip_channels         16\n",
      "use_biases            True\n",
      "scalar_input          False\n",
      "initial_filter_width  32\n"
     ]
    }
   ],
   "source": [
    "wavenet_params = {\n",
    "    \"filter_width\": 2,\n",
    "    \"sample_rate\": 22050,\n",
    "    \"dilations\": [1, 2, 4, 8, 16, 32, 64, 128, 256, 512,\n",
    "                  1, 2, 4, 8, 16, 32, 64, 128, 256, 512],\n",
    "    \"residual_channels\": 16,\n",
    "    \"dilation_channels\": 16,\n",
    "    \"quantization_channels\": 256,\n",
    "    \"skip_channels\": 16,\n",
    "    \"use_biases\": True,\n",
    "    \"scalar_input\": False,\n",
    "    \"initial_filter_width\": 32\n",
    "}\n",
    "\n",
    "for key in wavenet_params.keys():\n",
    "    exec('{} = wavenet_params[\\'{}\\']'.format(key, key))\n",
    "    print('{:21}'.format(key), eval(key))"
   ]
  },
  {
   "cell_type": "code",
   "execution_count": 49,
   "metadata": {
    "collapsed": true
   },
   "outputs": [],
   "source": [
    "# Helper functions for WaveNetModel class\n",
    "\n",
    "def create_variable(name, shape, seed=None):\n",
    "    '''Create a convolution filter variable with the specified name and shape,\n",
    "    and initialize it using Xavier initialition.'''\n",
    "    initializer = tf.contrib.layers.xavier_initializer_conv2d(seed=seed)\n",
    "    variable = tf.Variable(initializer(shape=shape), name=name)\n",
    "    return variable\n",
    "\n",
    "def create_bias_variable(name, shape):\n",
    "    '''Create a bias variable with the specified name and shape and initialize\n",
    "    it to zero.'''\n",
    "    initializer = tf.constant_initializer(value=0.0, dtype=tf.float32)\n",
    "    return tf.Variable(initializer(shape=shape), name)"
   ]
  },
  {
   "cell_type": "code",
   "execution_count": 50,
   "metadata": {
    "collapsed": true
   },
   "outputs": [],
   "source": [
    "# time_to_batch, batch_to_time, causal_conv\n",
    "\n",
    "def time_to_batch(value, dilation, name=None):\n",
    "    with tf.name_scope('time_to_batch'):\n",
    "        shape = tf.shape(value)\n",
    "        pad_elements = dilation - 1 - (shape[1] + dilation - 1) % dilation\n",
    "        padded = tf.pad(value, [[0, 0], [0, pad_elements], [0, 0]])\n",
    "        reshaped = tf.reshape(padded, [-1, dilation, shape[2]])\n",
    "        transposed = tf.transpose(reshaped, perm=[1, 0, 2])\n",
    "        return tf.reshape(transposed, [shape[0] * dilation, -1, shape[2]])\n",
    "\n",
    "\n",
    "def batch_to_time(value, dilation, name=None):\n",
    "    with tf.name_scope('batch_to_time'):\n",
    "        shape = tf.shape(value)\n",
    "        prepared = tf.reshape(value, [dilation, -1, shape[2]])\n",
    "        transposed = tf.transpose(prepared, perm=[1, 0, 2])\n",
    "        return tf.reshape(transposed,\n",
    "                          [tf.div(shape[0], dilation), -1, shape[2]])\n",
    "\n",
    "\n",
    "def causal_conv(value, filter_, dilation, name='causal_conv'):\n",
    "    with tf.name_scope(name):\n",
    "        filter_width = tf.shape(filter_)[0]\n",
    "        if dilation > 1:\n",
    "            transformed = time_to_batch(value, dilation)\n",
    "            conv = tf.nn.conv1d(transformed, filter_, stride=1,\n",
    "                                padding='VALID')\n",
    "            restored = batch_to_time(conv, dilation)\n",
    "        else:\n",
    "            restored = tf.nn.conv1d(value, filter_, stride=1, padding='VALID')\n",
    "        # Remove excess elements at the end.\n",
    "        out_width = tf.shape(value)[1] - (filter_width - 1) * dilation\n",
    "        result = tf.slice(restored,\n",
    "                          [0, 0, 0],\n",
    "                          [-1, out_width, -1])\n",
    "        return result\n"
   ]
  },
  {
   "cell_type": "code",
   "execution_count": 56,
   "metadata": {
    "collapsed": true
   },
   "outputs": [],
   "source": [
    "## scalar_input option does not work now\n",
    "\n",
    "class WaveNetModel(object):\n",
    "    '''WaveNet model modified for binary classification.\n",
    "    Modified by John Choi (isnbh0)\n",
    "\n",
    "    Default parameters:\n",
    "        dilations = [2**i for i in range(10)] * 2\n",
    "        filter_width = 2  # Convolutions just use 2 samples.\n",
    "        residual_channels = 16  # Not specified in the paper.\n",
    "        dilation_channels = 16  # Not specified in the paper.\n",
    "        skip_channels = 16      # Not specified in the paper.\n",
    "        net = WaveNetModel(batch_size, dilations, filter_width,\n",
    "                           residual_channels, dilation_channels,\n",
    "                           skip_channels)\n",
    "        loss = net.loss(input_batch)\n",
    "    '''\n",
    "\n",
    "    def __init__(self, #num_samples\n",
    "                 batch_size,\n",
    "                 dilations,\n",
    "                 filter_width,\n",
    "                 residual_channels,\n",
    "                 dilation_channels,\n",
    "                 skip_channels,\n",
    "                 quantization_channels=2**8,\n",
    "                 use_biases=False,\n",
    "                 scalar_input=False,\n",
    "                 initial_filter_width=32,\n",
    "                 histograms=False,\n",
    "                 seed=None):\n",
    "        '''Initializes the WaveNet model.\n",
    "\n",
    "        Args:\n",
    "            batch_size: audio files per batch (recommended: 1).\n",
    "            dilations: A list with the dilation factor for each layer.\n",
    "            filter_width: The samples that are included in each convolution,\n",
    "                after dilating.\n",
    "            residual_channels: # filters to learn for the residual.\n",
    "            dilation_channels: # filters to learn for the dilated convolution.\n",
    "            skip_channels: # filters to learn that contribute to the\n",
    "                quantized softmax output.\n",
    "            quantization_channels: # amplitude values to use for audio\n",
    "                quantization and the corresponding one-hot encoding.\n",
    "                Default: 256 (8-bit quantization).\n",
    "            use_biases: Whether to add a bias layer to each convolution.\n",
    "                Default: False.\n",
    "            scalar_input: Whether to use the quantized waveform directly as\n",
    "            |   input to the network instead of one-hot encoding it.\n",
    "            |   Default: False.\n",
    "            *-initial_filter_width: The width of the initial filter of the\n",
    "                convolution applied to the scalar input. This is only relevant\n",
    "                if scalar_input=True.\n",
    "            histograms: Whether to store histograms in the summary.\n",
    "                Default: False.\n",
    "            seed: Random seed for debugging purposes. Default: None.\n",
    "        '''\n",
    "        self.batch_size = batch_size\n",
    "        self.dilations = dilations\n",
    "        self.filter_width = filter_width\n",
    "        self.residual_channels = residual_channels\n",
    "        self.dilation_channels = dilation_channels\n",
    "        self.quantization_channels = quantization_channels\n",
    "        self.use_biases = use_biases\n",
    "        self.skip_channels = skip_channels\n",
    "        self.scalar_input = scalar_input\n",
    "        self.initial_filter_width = initial_filter_width\n",
    "        self.histograms = histograms\n",
    "        self.seed = seed\n",
    "        \n",
    "        self.receptive_field = WaveNetModel.calculate_receptive_field(\n",
    "            self.filter_width, self.dilations, self.scalar_input,\n",
    "            self.initial_filter_width)\n",
    "        self.variables = self._create_variables()\n",
    "        \n",
    "\n",
    "    @staticmethod\n",
    "    def calculate_receptive_field(filter_width, dilations, scalar_input,\n",
    "                                  initial_filter_width):\n",
    "        receptive_field = (filter_width - 1) * sum(dilations) + 1\n",
    "        if scalar_input:\n",
    "            receptive_field += initial_filter_width - 1\n",
    "        else:\n",
    "            receptive_field += filter_width - 1\n",
    "        return receptive_field\n",
    "\n",
    "    def _create_variables(self):\n",
    "        '''This function creates all variables used by the network.\n",
    "        This allows us to share them between multiple calls to the loss\n",
    "        function and generation function.'''\n",
    "\n",
    "        var = dict()\n",
    "\n",
    "        with tf.variable_scope('wavenet'):\n",
    "            with tf.variable_scope('causal_layer'):\n",
    "                layer = dict()\n",
    "                if self.scalar_input:\n",
    "                    initial_channels = 1\n",
    "                    initial_filter_width = self.initial_filter_width\n",
    "                else:\n",
    "                    initial_channels = self.quantization_channels\n",
    "                    initial_filter_width = self.filter_width\n",
    "                layer['filter'] = create_variable(\n",
    "                    'filter',\n",
    "                    [initial_filter_width,\n",
    "                     initial_channels,\n",
    "                     self.residual_channels], seed=self.seed)\n",
    "                var['causal_layer'] = layer\n",
    "\n",
    "            var['dilated_stack'] = list()\n",
    "            with tf.variable_scope('dilated_stack'):\n",
    "                for i, dilation in enumerate(self.dilations):\n",
    "                    with tf.variable_scope('layer{}'.format(i)):\n",
    "                        current = dict()\n",
    "                        current['filter'] = create_variable(\n",
    "                            'filter',\n",
    "                            [self.filter_width,\n",
    "                             self.residual_channels,\n",
    "                             self.dilation_channels], seed=self.seed)\n",
    "                        current['gate'] = create_variable(\n",
    "                            'gate',\n",
    "                            [self.filter_width,\n",
    "                             self.residual_channels,\n",
    "                             self.dilation_channels], seed=self.seed)\n",
    "                        current['dense'] = create_variable(\n",
    "                            'dense',\n",
    "                            [1,\n",
    "                             self.dilation_channels,\n",
    "                             self.residual_channels], seed=self.seed)\n",
    "                        current['skip'] = create_variable(\n",
    "                            'skip',\n",
    "                            [1,\n",
    "                             self.dilation_channels,\n",
    "                             self.skip_channels], seed=self.seed)\n",
    "\n",
    "\n",
    "\n",
    "                        if self.use_biases:\n",
    "                            current['filter_bias'] = create_bias_variable(\n",
    "                                'filter_bias',\n",
    "                                [self.dilation_channels])\n",
    "                            current['gate_bias'] = create_bias_variable(\n",
    "                                'gate_bias',\n",
    "                                [self.dilation_channels])\n",
    "                            current['dense_bias'] = create_bias_variable(\n",
    "                                'dense_bias',\n",
    "                                [self.residual_channels])\n",
    "                            current['skip_bias'] = create_bias_variable(\n",
    "                                'slip_bias',\n",
    "                                [self.skip_channels])\n",
    "\n",
    "                        var['dilated_stack'].append(current)\n",
    "\n",
    "            with tf.variable_scope('postprocessing'):\n",
    "                current = dict()\n",
    "                current['postprocess1'] = create_variable(\n",
    "                    'postprocess1',\n",
    "                    [1, self.skip_channels, self.skip_channels], seed=0)\n",
    "                current['postprocess2'] = create_variable(\n",
    "                    'postprocess2',\n",
    "                    [1, self.skip_channels, 1], seed=0)  ## returns 3D scalar\n",
    "                if self.use_biases:\n",
    "                    current['postprocess1_bias'] = create_bias_variable(\n",
    "                        'postprocess1_bias',\n",
    "                        [self.skip_channels])\n",
    "                    current['postprocess2_bias'] = create_bias_variable(\n",
    "                        'postprocess2_bias',\n",
    "                        [1])\n",
    "                var['postprocessing'] = current\n",
    "\n",
    "        return var\n",
    "\n",
    "    def _create_causal_layer(self, input_batch):\n",
    "        '''Creates a single causal convolution layer.\n",
    "\n",
    "        The layer can change the number of channels.\n",
    "        '''\n",
    "        with tf.name_scope('causal_layer'):\n",
    "            weights_filter = self.variables['causal_layer']['filter']\n",
    "            return causal_conv(input_batch, weights_filter, 1)\n",
    "\n",
    "    def _create_dilation_layer(self, input_batch, layer_index, dilation,\n",
    "                               output_width):\n",
    "        '''Creates a single causal dilated convolution layer.\n",
    "\n",
    "        Args:\n",
    "             input_batch: Input to the dilation layer.\n",
    "             layer_index: Integer indicating which layer this is.\n",
    "             dilation: Integer specifying the dilation size.\n",
    "\n",
    "        The layer contains a gated filter that connects to dense output\n",
    "        and to a skip connection:\n",
    "\n",
    "               |-> [gate]   -|        |-> 1x1 conv -> skip output\n",
    "               |             |-> (*) -|\n",
    "        input -|-> [filter] -|        |-> 1x1 conv -|\n",
    "               |                                    |-> (+) -> dense output\n",
    "               |------------------------------------|\n",
    "\n",
    "        Where `[gate]` and `[filter]` are causal convolutions with a\n",
    "        non-linear activation at the output. Biases and global conditioning\n",
    "        are omitted due to the limits of ASCII art.\n",
    "\n",
    "        '''\n",
    "        variables = self.variables['dilated_stack'][layer_index]\n",
    "\n",
    "        weights_filter = variables['filter']\n",
    "        weights_gate = variables['gate']\n",
    "\n",
    "        conv_filter = causal_conv(input_batch, weights_filter, dilation)\n",
    "        conv_gate = causal_conv(input_batch, weights_gate, dilation)\n",
    "\n",
    "\n",
    "        if self.use_biases:\n",
    "            filter_bias = variables['filter_bias']\n",
    "            gate_bias = variables['gate_bias']\n",
    "            conv_filter = tf.add(conv_filter, filter_bias)\n",
    "            conv_gate = tf.add(conv_gate, gate_bias)\n",
    "\n",
    "        out = tf.tanh(conv_filter) * tf.sigmoid(conv_gate)\n",
    "\n",
    "        # The 1x1 conv to produce the residual output\n",
    "        weights_dense = variables['dense']\n",
    "        transformed = tf.nn.conv1d(\n",
    "            out, weights_dense, stride=1, padding=\"SAME\", name=\"dense\")\n",
    "\n",
    "        # The 1x1 conv to produce the skip output\n",
    "        skip_cut = tf.shape(out)[1] - output_width\n",
    "        out_skip = tf.slice(out, [0, skip_cut, 0], [-1, -1, -1])\n",
    "        weights_skip = variables['skip']\n",
    "        skip_contribution = tf.nn.conv1d(\n",
    "            out_skip, weights_skip, stride=1, padding=\"SAME\", name=\"skip\")\n",
    "\n",
    "        if self.use_biases:\n",
    "            dense_bias = variables['dense_bias']\n",
    "            skip_bias = variables['skip_bias']\n",
    "            transformed = transformed + dense_bias\n",
    "            skip_contribution = skip_contribution + skip_bias\n",
    "\n",
    "        if self.histograms:\n",
    "            layer = 'layer{}'.format(layer_index)\n",
    "            tf.summary.histogram(layer + '_filter', weights_filter)\n",
    "            tf.summary.histogram(layer + '_gate', weights_gate)\n",
    "            tf.summary.histogram(layer + '_dense', weights_dense)\n",
    "            tf.summary.histogram(layer + '_skip', weights_skip)\n",
    "            if self.use_biases:\n",
    "                tf.summary.histogram(layer + '_biases_filter', filter_bias)\n",
    "                tf.summary.histogram(layer + '_biases_gate', gate_bias)\n",
    "                tf.summary.histogram(layer + '_biases_dense', dense_bias)\n",
    "                tf.summary.histogram(layer + '_biases_skip', skip_bias)\n",
    "\n",
    "        input_cut = tf.shape(input_batch)[1] - tf.shape(transformed)[1]\n",
    "        input_batch = tf.slice(input_batch, [0, input_cut, 0], [-1, -1, -1])\n",
    "\n",
    "        return skip_contribution, input_batch + transformed\n",
    "\n",
    "    def _generator_conv(self, input_batch, state_batch, weights):\n",
    "        '''Perform convolution for a single convolutional processing step.'''\n",
    "        # TODO generalize to filter_width > 2\n",
    "        past_weights = weights[0, :, :]\n",
    "        curr_weights = weights[1, :, :]\n",
    "        output = tf.matmul(state_batch, past_weights) + tf.matmul(\n",
    "            input_batch, curr_weights)\n",
    "        return output\n",
    "\n",
    "    def _generator_causal_layer(self, input_batch, state_batch):\n",
    "        with tf.name_scope('causal_layer'):\n",
    "            weights_filter = self.variables['causal_layer']['filter']\n",
    "            output = self._generator_conv(\n",
    "                input_batch, state_batch, weights_filter)\n",
    "        return output\n",
    "\n",
    "    def _generator_dilation_layer(self, input_batch, state_batch, layer_index,\n",
    "                                  dilation):\n",
    "        variables = self.variables['dilated_stack'][layer_index]\n",
    "\n",
    "        weights_filter = variables['filter']\n",
    "        weights_gate = variables['gate']\n",
    "        output_filter = self._generator_conv(\n",
    "            input_batch, state_batch, weights_filter)\n",
    "        output_gate = self._generator_conv(\n",
    "            input_batch, state_batch, weights_gate)\n",
    "\n",
    "        if self.use_biases:\n",
    "            output_filter = output_filter + variables['filter_bias']\n",
    "            output_gate = output_gate + variables['gate_bias']\n",
    "\n",
    "        out = tf.tanh(output_filter) * tf.sigmoid(output_gate)\n",
    "\n",
    "        weights_dense = variables['dense']\n",
    "        transformed = tf.matmul(out, weights_dense[0, :, :])\n",
    "        if self.use_biases:\n",
    "            transformed = transformed + variables['dense_bias']\n",
    "\n",
    "        weights_skip = variables['skip']\n",
    "        skip_contribution = tf.matmul(out, weights_skip[0, :, :])\n",
    "        if self.use_biases:\n",
    "            skip_contribution = skip_contribution + variables['skip_bias']\n",
    "\n",
    "        return skip_contribution, input_batch + transformed\n",
    "\n",
    "    def _create_network(self, input_batch):\n",
    "        '''Construct the WaveNet network.'''\n",
    "        outputs = []\n",
    "        current_layer = input_batch\n",
    "\n",
    "        # Pre-process the input with a regular convolution\n",
    "        if self.scalar_input:\n",
    "            initial_channels = 1\n",
    "        else:\n",
    "            initial_channels = self.quantization_channels\n",
    "\n",
    "        current_layer = self._create_causal_layer(current_layer)\n",
    "\n",
    "        output_width = tf.shape(input_batch)[1] - self.receptive_field + 1\n",
    "\n",
    "        # Add all defined dilation layers.\n",
    "        with tf.name_scope('dilated_stack'):\n",
    "            for layer_index, dilation in enumerate(self.dilations):\n",
    "                with tf.name_scope('layer{}'.format(layer_index)):\n",
    "                    output, current_layer = self._create_dilation_layer(\n",
    "                        current_layer, layer_index, dilation,\n",
    "                        output_width)\n",
    "                    outputs.append(output)\n",
    "\n",
    "        with tf.name_scope('postprocessing'):\n",
    "            # Perform (+) -> ReLU -> 1x1 conv -> ReLU -> 1x1 conv to\n",
    "            # postprocess the output.\n",
    "            w1 = self.variables['postprocessing']['postprocess1']\n",
    "            w2 = self.variables['postprocessing']['postprocess2']\n",
    "            if self.use_biases:\n",
    "                b1 = self.variables['postprocessing']['postprocess1_bias']\n",
    "                b2 = self.variables['postprocessing']['postprocess2_bias']\n",
    "\n",
    "            if self.histograms:\n",
    "                tf.summary.histogram('postprocess1_weights', w1)\n",
    "                tf.summary.histogram('postprocess2_weights', w2)\n",
    "                if self.use_biases:\n",
    "                    tf.summary.histogram('postprocess1_biases', b1)\n",
    "                    tf.summary.histogram('postprocess2_biases', b2)\n",
    "\n",
    "            # We skip connections from the outputs of each layer, adding them\n",
    "            # all up here.\n",
    "            total = sum(outputs)\n",
    "            transformed1 = tf.nn.relu(total)\n",
    "            conv1 = tf.nn.conv1d(transformed1, w1, stride=1, padding=\"SAME\")\n",
    "            if self.use_biases:\n",
    "                conv1 = tf.add(conv1, b1)\n",
    "            transformed2 = tf.nn.relu(conv1)\n",
    "            conv2 = tf.nn.conv1d(transformed2, w2, stride=1, padding=\"SAME\")\n",
    "            if self.use_biases:\n",
    "                conv2 = tf.add(conv2, b2)\n",
    "\n",
    "            ## ADDED CODE HERE. ******************************\n",
    "            ## RELU activation before going to dense node\n",
    "            transformed3 = tf.nn.relu(conv2)\n",
    "\n",
    "            ## Reshape to 2-D tensor with dimensions\n",
    "            ## batch_size, sample_size\n",
    "            ## shape[1] constant here so we can use dense\n",
    "            shape = [tf.shape(transformed3)[0], SAMPLE_SIZE - sum(dilations) - 1]\n",
    "            transformed3 = tf.reshape(transformed3, shape)\n",
    "            \n",
    "            ## Add dense layer to transform from\n",
    "            ## batch_size x sample_size 2-D array to\n",
    "            ## batch_size 1-D array\n",
    "            final = tf.layers.dense(transformed3, units=1, reuse=tf.AUTO_REUSE,\n",
    "                                    name='final_out')\n",
    "        return final\n",
    "\n",
    "    def _one_hot(self, input_batch, batch_size=None):\n",
    "        '''One-hot encodes the waveform amplitudes.\n",
    "\n",
    "        This allows the definition of the network as a categorical distribution\n",
    "        over a finite set of possible amplitudes.\n",
    "        '''\n",
    "        if not batch_size:\n",
    "            batch_size = self.batch_size\n",
    "            \n",
    "        with tf.name_scope('one_hot_encode'):\n",
    "            encoded = tf.one_hot(\n",
    "                input_batch,\n",
    "                depth=self.quantization_channels,\n",
    "                dtype=tf.float32)\n",
    "            shape = [batch_size, -1, self.quantization_channels]\n",
    "            encoded = tf.reshape(encoded, shape)\n",
    "        return encoded\n",
    "\n",
    "    def predict_proba(self, input_batch, name='wavenet'):\n",
    "        '''Computes the probability of waveform being LAUGHTER.\n",
    "           Necessary for evaluation with test data.'''\n",
    "\n",
    "        logits = self.loss_or_logits(input_batch,\n",
    "                                    get_loss=False,\n",
    "                                    get_logits=True)['logits']\n",
    "        logits = tf.reshape(logits, [-1])\n",
    "        out = tf.nn.sigmoid(logits)\n",
    "        return out\n",
    "           \n",
    "    def loss_or_logits(self,\n",
    "             input_batch,\n",
    "             input_label=None, get_loss=True, get_logits=False,\n",
    "             name='wavenet'):\n",
    "        print(input_batch.shape)\n",
    "        '''Creates a WaveNet network and\n",
    "        returns crossentropy loss and/or logits.\n",
    "        If no input_label is given, return logits only.\n",
    "        The variables are all scoped to the given name.\n",
    "        '''\n",
    "        if input_label is None:\n",
    "            get_loss, get_logits = False, True\n",
    "        \n",
    "        outputs = {}\n",
    "        \n",
    "        with tf.name_scope(name):\n",
    "            input_audio = tf.to_int32(input_batch)\n",
    "            encoded = self._one_hot(input_audio)\n",
    "            if get_loss:\n",
    "                input_label = tf.reshape(input_label, [-1, 1, 1])\n",
    "\n",
    "            if self.scalar_input:\n",
    "                network_input = tf.reshape(\n",
    "                    tf.cast(input_batch, tf.float32),\n",
    "                    [self.batch_size, -1, 1])\n",
    "            else:\n",
    "                network_input = encoded\n",
    "\n",
    "            ## shape of raw_output is (batch_size, 1)\n",
    "            raw_output = self._create_network(network_input)\n",
    "\n",
    "            if get_logits:\n",
    "                outputs['logits'] = tf.reshape(raw_output,\n",
    "                                               [self.batch_size])\n",
    "            if get_loss:\n",
    "                with tf.name_scope('loss'):\n",
    "                    ## format the target values\n",
    "                    target_output = tf.reshape(input_label,\n",
    "                                               [self.batch_size])\n",
    "                    ## logits\n",
    "                    prediction = tf.reshape(raw_output,\n",
    "                                            [self.batch_size])\n",
    "\n",
    "                    loss = tf.nn.sigmoid_cross_entropy_with_logits(\n",
    "                        logits=prediction,\n",
    "                        labels=target_output)\n",
    "                    reduced_loss = tf.reduce_mean(loss)\n",
    "\n",
    "                    tf.summary.scalar('loss', reduced_loss)\n",
    "\n",
    "                    outputs['loss'] = reduced_loss\n",
    "        return outputs"
   ]
  },
  {
   "cell_type": "markdown",
   "metadata": {},
   "source": [
    "## functions to read from TFRecord"
   ]
  },
  {
   "cell_type": "code",
   "execution_count": 52,
   "metadata": {
    "collapsed": true
   },
   "outputs": [],
   "source": [
    "data_path0 = '../_data/tfrecords/sample_3600_{}.tfrecord'\n",
    "\n",
    "def parser(serialized_example):\n",
    "    features = {\n",
    "        'samples': tf.FixedLenFeature([SAMPLE_SIZE], tf.float32),\n",
    "        'laugh' : tf.FixedLenFeature([1], tf.float32)\n",
    "    }\n",
    "    parsed_feature = tf.parse_single_example(serialized_example, features)\n",
    "    samples = parsed_feature['samples']\n",
    "    laugh = parsed_feature['laugh']\n",
    "    return samples, laugh\n",
    "\n",
    "def get_tfrecord(name='train', batch_size=1, buffer_size=5000,\n",
    "                 repeat=1, seed=None):\n",
    "    dataset = tf.data.TFRecordDataset(data_path0.format(name)).map(parser)\n",
    "    dataset = dataset.batch(batch_size)\n",
    "    dataset = dataset.shuffle(buffer_size, seed=seed)\n",
    "    dataset = dataset.repeat(repeat)\n",
    "    return dataset"
   ]
  },
  {
   "cell_type": "markdown",
   "metadata": {},
   "source": [
    "# validation loss implementation\n",
    "* sigmoid cross entropy"
   ]
  },
  {
   "cell_type": "code",
   "execution_count": 221,
   "metadata": {},
   "outputs": [
    {
     "name": "stdout",
     "output_type": "stream",
     "text": [
      "(?, 3600, 1)\n",
      "(?, 3600, 1)\n"
     ]
    }
   ],
   "source": [
    "tf.reset_default_graph()\n",
    "\n",
    "batch_size = 40\n",
    "learning_rate = 1e-3\n",
    "momentum = 0.9\n",
    "seed = 0\n",
    "tf.set_random_seed(0)\n",
    "\n",
    "data_train = get_tfrecord(name='train',\n",
    "                          batch_size=batch_size,\n",
    "                          seed=seed,\n",
    "                          repeat=1000)\n",
    "data_test  = get_tfrecord(name='test',\n",
    "                          batch_size=batch_size,\n",
    "                          seed=seed,\n",
    "                          repeat=None)\n",
    "\n",
    "train_itr = data_train.make_one_shot_iterator()\n",
    "test_itr = data_test.make_one_shot_iterator()\n",
    "\n",
    "train_batch, train_label = train_itr.get_next()\n",
    "test_batch, test_label = test_itr.get_next()\n",
    "\n",
    "train_batch = tf.reshape(train_batch, [-1, train_batch.shape[1], 1])\n",
    "test_batch = tf.reshape(test_batch, [-1, test_batch.shape[1], 1])\n",
    "\n",
    "\n",
    "net = WaveNetModel(batch_size=batch_size, dilations=dilations, filter_width=filter_width,\n",
    "                   residual_channels=residual_channels, dilation_channels=dilation_channels,\n",
    "                   skip_channels=skip_channels,\n",
    "                   histograms=True, seed=seed)\n",
    "\n",
    "train_outs = net.loss_or_logits(train_batch, train_label,\n",
    "                                get_loss=True, get_logits=True)\n",
    "test_outs = net.loss_or_logits(test_batch, test_label,\n",
    "                               get_loss=True, get_logits=True)"
   ]
  },
  {
   "cell_type": "code",
   "execution_count": 222,
   "metadata": {
    "collapsed": true
   },
   "outputs": [],
   "source": [
    "optimizer = tf.train.MomentumOptimizer(learning_rate=1e-3,\n",
    "                                       momentum=0.9)\n",
    "trainable = tf.trainable_variables()\n",
    "optim = optimizer.minimize(train_outs['loss'], var_list=trainable)"
   ]
  },
  {
   "cell_type": "markdown",
   "metadata": {},
   "source": [
    "# pred_test calculated with loss_or_logits"
   ]
  },
  {
   "cell_type": "code",
   "execution_count": 223,
   "metadata": {},
   "outputs": [],
   "source": [
    "pred_test = tf.nn.sigmoid(test_outs['logits'])\n",
    "equals = tf.equal(tf.squeeze(test_label), tf.round(pred_test))\n",
    "acc = tf.reduce_mean(tf.cast(equals, tf.float32))"
   ]
  },
  {
   "cell_type": "markdown",
   "metadata": {},
   "source": [
    "# pred_test calculated with predict_proba"
   ]
  },
  {
   "cell_type": "code",
   "execution_count": 224,
   "metadata": {},
   "outputs": [
    {
     "name": "stdout",
     "output_type": "stream",
     "text": [
      "(?, 3600, 1)\n"
     ]
    }
   ],
   "source": [
    "pred_test2 = net.predict_proba(test_batch)\n",
    "equals2 = tf.equal(tf.squeeze(test_label), tf.round(pred_test2))\n",
    "acc2 = tf.reduce_mean(tf.cast(equals2, tf.float32))"
   ]
  },
  {
   "cell_type": "code",
   "execution_count": 225,
   "metadata": {
    "collapsed": true
   },
   "outputs": [],
   "source": [
    "writer = tf.summary.FileWriter('./tf_logs/train/{}'\n",
    "                        .format(datetime.now().strftime(\"%y%m%d_%H%M%S\")))\n",
    "writer.add_graph(tf.get_default_graph())\n",
    "run_metadata = tf.RunMetadata()\n",
    "summaries = tf.summary.merge_all()"
   ]
  },
  {
   "cell_type": "code",
   "execution_count": 226,
   "metadata": {},
   "outputs": [
    {
     "data": {
      "text/plain": [
       "[None, None]"
      ]
     },
     "execution_count": 226,
     "metadata": {},
     "output_type": "execute_result"
    }
   ],
   "source": [
    "# Set up session\n",
    "sess = tf.Session(config=tf.ConfigProto(log_device_placement=False))\n",
    "init = tf.global_variables_initializer()\n",
    "init2 = tf.local_variables_initializer()\n",
    "sess.run([init, init2])\n",
    "\n",
    "# saver code not used"
   ]
  },
  {
   "cell_type": "code",
   "execution_count": null,
   "metadata": {},
   "outputs": [],
   "source": [
    "%%time\n",
    "\n",
    "trainloss = []\n",
    "testloss = []\n",
    "accs = []\n",
    "acc2s = []"
   ]
  },
  {
   "cell_type": "markdown",
   "metadata": {},
   "source": [
    "# using loss_or_logits"
   ]
  },
  {
   "cell_type": "code",
   "execution_count": 216,
   "metadata": {
    "scrolled": true
   },
   "outputs": [
    {
     "name": "stdout",
     "output_type": "stream",
     "text": [
      "step   1:  trainloss = 0.7611412, testloss = 0.7608312, acc =  0.400, acc2 =  0.400\n",
      "step   2:  trainloss = 0.8149819, testloss = 0.7767195, acc =  0.375, acc2 =  0.375\n",
      "step   3:  trainloss = 0.8458139, testloss = 0.7428722, acc =  0.425, acc2 =  0.425\n",
      "step   4:  trainloss = 0.7829246, testloss = 0.7389027, acc =  0.400, acc2 =  0.400\n",
      "step   5:  trainloss = 0.7314153, testloss = 0.7165257, acc =  0.425, acc2 =  0.425\n",
      "step   6:  trainloss = 0.7496275, testloss = 0.7272379, acc =  0.425, acc2 =  0.425\n",
      "step   7:  trainloss = 0.7370264, testloss = 0.6954507, acc =  0.500, acc2 =  0.500\n",
      "step   8:  trainloss = 0.7189638, testloss = 0.7110698, acc =  0.350, acc2 =  0.350\n",
      "step   9:  trainloss = 0.7077975, testloss = 0.6891164, acc =  0.600, acc2 =  0.600\n",
      "step  10:  trainloss = 0.7036611, testloss = 0.7025993, acc =  0.475, acc2 =  0.475\n",
      "CPU times: user 4min 3s, sys: 8.95 s, total: 4min 12s\n",
      "Wall time: 40.8 s\n"
     ]
    }
   ],
   "source": [
    "%%time\n",
    "\n",
    "for step in range(10):\n",
    "    tf.set_random_seed(0)\n",
    "    \n",
    "    summ_, train_loss_, test_loss_, _, acc_, acc2_\\\n",
    "    = sess.run([summaries, train_outs['loss'],\n",
    "                            test_outs['loss'], optim, acc, acc2])\n",
    "    writer.add_summary(summ_, step)\n",
    "    if step % 1 == 0:\n",
    "        print(\"step {:3}:  trainloss = {:8.7f},\\\n",
    " testloss = {:8.7f}, acc = {:6.3f}, acc2 = {:6.3f}\"\n",
    "              .format(step+1, train_loss_, test_loss_, acc_, acc2_))\n",
    "    \n",
    "    trainloss.append(train_loss_)\n",
    "    testloss.append(test_loss_)\n",
    "    accs.append(acc_)\n",
    "    acc2s.append(acc2_)"
   ]
  },
  {
   "cell_type": "code",
   "execution_count": 227,
   "metadata": {},
   "outputs": [
    {
     "name": "stdout",
     "output_type": "stream",
     "text": [
      "CPU times: user 5 µs, sys: 1e+03 ns, total: 6 µs\n",
      "Wall time: 10 µs\n"
     ]
    }
   ],
   "source": [
    "%%time\n",
    "\n",
    "trainloss2 = []\n",
    "testloss2 = []\n",
    "accs2 = []\n",
    "acc2s2 = []"
   ]
  },
  {
   "cell_type": "code",
   "execution_count": 228,
   "metadata": {
    "scrolled": true
   },
   "outputs": [
    {
     "name": "stdout",
     "output_type": "stream",
     "text": [
      "step   1:  trainloss = 0.7611412, testloss = 0.7608312, acc =  0.400, acc2 =  0.400\n",
      "step   2:  trainloss = 0.8149819, testloss = 0.7767195, acc =  0.375, acc2 =  0.375\n",
      "step   3:  trainloss = 0.8458139, testloss = 0.7356009, acc =  0.425, acc2 =  0.425\n",
      "step   4:  trainloss = 0.7829246, testloss = 0.7470446, acc =  0.400, acc2 =  0.400\n",
      "step   5:  trainloss = 0.7314153, testloss = 0.7165257, acc =  0.425, acc2 =  0.425\n",
      "step   6:  trainloss = 0.7496275, testloss = 0.7272379, acc =  0.425, acc2 =  0.425\n",
      "step   7:  trainloss = 0.7370264, testloss = 0.6993197, acc =  0.475, acc2 =  0.475\n",
      "step   8:  trainloss = 0.7189638, testloss = 0.7152312, acc =  0.400, acc2 =  0.400\n",
      "step   9:  trainloss = 0.7077975, testloss = 0.6899285, acc =  0.550, acc2 =  0.550\n",
      "step  10:  trainloss = 0.7036611, testloss = 0.7053667, acc =  0.400, acc2 =  0.400\n",
      "CPU times: user 4min 12s, sys: 9.24 s, total: 4min 21s\n",
      "Wall time: 43 s\n"
     ]
    }
   ],
   "source": [
    "%%time\n",
    "\n",
    "for step in range(10):\n",
    "    tf.set_random_seed(0)\n",
    "    \n",
    "    summ_, train_loss_, test_loss_, _, acc_, acc2_\\\n",
    "    = sess.run([summaries, train_outs['loss'],\n",
    "                            test_outs['loss'], optim, acc, acc2])\n",
    "    writer.add_summary(summ_, step)\n",
    "    if step % 1 == 0:\n",
    "        print(\"step {:3}:  trainloss = {:8.7f},\\\n",
    " testloss = {:8.7f}, acc = {:6.3f}, acc2 = {:6.3f}\"\n",
    "              .format(step+1, train_loss_, test_loss_, acc_, acc2_))\n",
    "    \n",
    "    trainloss2.append(train_loss_)\n",
    "    testloss2.append(test_loss_)\n",
    "    accs2.append(acc_)\n",
    "    acc2s2.append(acc2_)"
   ]
  },
  {
   "cell_type": "code",
   "execution_count": 192,
   "metadata": {
    "scrolled": false
   },
   "outputs": [
    {
     "name": "stdout",
     "output_type": "stream",
     "text": [
      "step   1:  trainloss = 0.7611412, testloss = 0.7608312, acc =  0.400, acc2 =  0.400\n",
      "step   2:  trainloss = 0.8149819, testloss = 0.7795744, acc =  0.375, acc2 =  0.375\n",
      "step   3:  trainloss = 0.8458139, testloss = 0.7396345, acc =  0.425, acc2 =  0.425\n",
      "step   4:  trainloss = 0.7829246, testloss = 0.7500818, acc =  0.400, acc2 =  0.400\n",
      "step   5:  trainloss = 0.7314153, testloss = 0.7141200, acc =  0.425, acc2 =  0.425\n",
      "step   6:  trainloss = 0.7496275, testloss = 0.7272379, acc =  0.425, acc2 =  0.425\n",
      "step   7:  trainloss = 0.7370264, testloss = 0.6994991, acc =  0.475, acc2 =  0.475\n",
      "step   8:  trainloss = 0.7189638, testloss = 0.7142057, acc =  0.375, acc2 =  0.375\n",
      "step   9:  trainloss = 0.7077975, testloss = 0.6899285, acc =  0.550, acc2 =  0.550\n",
      "step  10:  trainloss = 0.7036611, testloss = 0.7025644, acc =  0.475, acc2 =  0.475\n",
      "CPU times: user 4min 10s, sys: 8.56 s, total: 4min 19s\n",
      "Wall time: 41.4 s\n"
     ]
    }
   ],
   "source": [
    "%%time\n",
    "\n",
    "for step in range(10):\n",
    "    tf.set_random_seed(0)\n",
    "    \n",
    "    summ_, train_loss_, test_loss_, _, acc_, acc2_\\\n",
    "    = sess.run([summaries, train_outs['loss'],\n",
    "                            test_outs['loss'], optim, acc, acc2])\n",
    "    writer.add_summary(summ_, step)\n",
    "    if step % 1 == 0:\n",
    "        print(\"step {:3}:  trainloss = {:8.7f},\\\n",
    " testloss = {:8.7f}, acc = {:6.3f}, acc2 = {:6.3f}\"\n",
    "              .format(step+1, train_loss_, test_loss_, acc_, acc2_))\n",
    "    \n",
    "    trainloss.append(train_loss_)\n",
    "    testloss.append(test_loss_)\n",
    "    accs.append(acc_)\n",
    "    acc2s.append(acc2_)"
   ]
  },
  {
   "cell_type": "code",
   "execution_count": 88,
   "metadata": {},
   "outputs": [
    {
     "name": "stdout",
     "output_type": "stream",
     "text": [
      "[0.5, 0.52499998, 0.625, 0.67500001, 0.60000002, 0.64999998, 0.64999998, 0.60000002, 0.60000002, 0.625]\n",
      "[0.5, 0.52499998, 0.625, 0.67500001, 0.60000002, 0.64999998, 0.64999998, 0.60000002, 0.60000002, 0.625]\n"
     ]
    }
   ],
   "source": [
    "print(accs)\n",
    "print(acc2s)"
   ]
  },
  {
   "cell_type": "code",
   "execution_count": null,
   "metadata": {
    "collapsed": true
   },
   "outputs": [],
   "source": [
    "             learning_rate=1e-3,\n",
    "             epsilon=1e-3,\n",
    "             momentum=0.9,\n",
    "             wavenet_params_path=None,\n",
    "             filter_width=2,\n",
    "             sample_rate=16000,\n",
    "             dilations=[2**x for x in range(10)]*2,\n",
    "             residual_channels=16,\n",
    "             dilation_channels=16,\n",
    "             quantization_channels=256,\n",
    "             skip_channels=16,\n",
    "             use_biases=True,\n",
    "             scalar_input=False,\n",
    "             initial_filter_width=32,\n",
    "             histograms=True):\n",
    "    \"\"\" Model fn\"\"\"\n",
    "\n",
    "    if wavenet_params_path:\n",
    "        with open(wavenet_params_path, 'r') as f:\n",
    "            wavenet_params = json.load(f)\n"
   ]
  },
  {
   "cell_type": "markdown",
   "metadata": {},
   "source": [
    "# using predict_proba"
   ]
  },
  {
   "cell_type": "code",
   "execution_count": 70,
   "metadata": {
    "scrolled": true
   },
   "outputs": [
    {
     "name": "stdout",
     "output_type": "stream",
     "text": [
      "step   1:  trainloss = 0.8591024, testloss = 0.8767888, acc =  0.500\n",
      "[-2.86683035 -0.00580909  0.         -2.32971835 -5.37594557] [ 0.          0.08091949  0.7149775  -5.36874247 -0.7441504 ]\n",
      "step   2:  trainloss = 0.9052750, testloss = 0.6688104, acc =  0.500\n",
      "[-0.12357028 -0.09812019 -4.6350069  -0.32235745  0.36173111] [-0.06588984 -5.55349493 -0.0233618  -5.64294529 -0.02742973]\n",
      "step   3:  trainloss = 0.9014144, testloss = 0.6416384, acc =  0.650\n",
      "[  1.82078922e+00   5.62287576e-04  -1.84621185e-01   5.62287576e-04\n",
      "   1.46477625e-01] [ -8.50766804e-03  -1.54843140e+00   5.62287576e-04  -4.94232988e+00\n",
      "  -1.96622256e-02]\n",
      "step   4:  trainloss = 0.6787461, testloss = 0.6586561, acc =  0.625\n",
      "[ 0.00115584  0.00115584 -0.20994408  0.00115584 -0.30828562] [ 0.00115584  0.00115584  0.00115584 -0.59844548 -0.0055648 ]\n",
      "step   5:  trainloss = 0.8314037, testloss = 0.8049976, acc =  0.650\n",
      "[ 0.00187621  0.00187621  0.00187621  0.00187621  0.00187621] [  1.87620730e-03   6.76504230e+00   5.77389635e-03  -3.60766196e+00\n",
      "  -5.56848478e-04]\n",
      "step   6:  trainloss = 0.6983510, testloss = 0.6757587, acc =  0.675\n",
      "[ 0.00255062 -0.80563205  0.00255062  0.00255062 -0.04580611] [ 0.00255062  0.00255062  0.00255062  0.00116267  0.00255062]\n",
      "step   7:  trainloss = 0.6975848, testloss = 0.6919780, acc =  0.625\n",
      "[ 0.00344593 -0.53264862  0.00344593  0.00344593  0.00344593] [ 0.00344593  0.00344593  0.00344593  0.00344593  0.00344593]\n",
      "step   8:  trainloss = 0.6843780, testloss = 0.9186137, acc =  0.625\n",
      "[ 0.00437896  0.00401762  0.00437896  0.00437896  0.00437896] [  5.24488417e-03   1.09350777e+01   1.01290019e-02  -2.10527325e+00\n",
      "   4.34293319e-03]\n",
      "step   9:  trainloss = 0.6918610, testloss = 0.9243640, acc =  0.625\n",
      "[ 0.00837087  0.00524488  0.00524488  0.00524488  0.00524488] [  6.19838433e-03   1.09474125e+01   1.05775101e-02  -1.75744891e+00\n",
      "   5.58028324e-03]\n",
      "step  10:  trainloss = 0.6919221, testloss = 0.6922361, acc =  0.625\n",
      "[ 0.00619838  0.00619838  0.00619838  0.00619838  0.00619838] [ 0.00723031  0.00723031  0.00723031  0.00723031  0.00723031]\n",
      "CPU times: user 4min 2s, sys: 8.27 s, total: 4min 11s\n",
      "Wall time: 40.3 s\n"
     ]
    }
   ],
   "source": [
    "%%time\n",
    "\n",
    "for step in range(10):\n",
    "    summ_, train_loss_, train_logits_, test_loss_, test_logits_, _, acc_\\\n",
    "    = sess.run([summaries, train_outs['loss'], train_outs['logits'],\n",
    "                            test_outs['loss'], test_outs['logits'],\n",
    "                optim, acc])\n",
    "    writer.add_summary(summ_, step)\n",
    "    if step % 1 == 0:\n",
    "        print(\"step {:3}:  trainloss = {:8.7f},\\\n",
    " testloss = {:8.7f}, acc = {:6.3f}\".format(step+1, train_loss_, test_loss_, acc_))\n",
    "        print(train_logits_[:5], test_logits_[:5])\n",
    "    \n",
    "    trainloss.append(train_loss_)\n",
    "    testloss.append(test_loss_)\n",
    "    accs.append(acc_)"
   ]
  },
  {
   "cell_type": "code",
   "execution_count": 159,
   "metadata": {},
   "outputs": [
    {
     "data": {
      "text/plain": [
       "'./saved/180202-naive-try-2-500'"
      ]
     },
     "execution_count": 159,
     "metadata": {},
     "output_type": "execute_result"
    }
   ],
   "source": [
    "saver = tf.train.Saver()\n",
    "saver.save(sess, './saved/180202-naive-try-2', global_step=500)"
   ]
  },
  {
   "cell_type": "markdown",
   "metadata": {},
   "source": [
    "---\n",
    "## TODO:address overfitting"
   ]
  },
  {
   "cell_type": "code",
   "execution_count": 148,
   "metadata": {
    "scrolled": true
   },
   "outputs": [
    {
     "name": "stdout",
     "output_type": "stream",
     "text": [
      "step 505:  trainloss = 0.5085800, testloss = 0.7072306, acc =  0.525\n",
      "step 510:  trainloss = 0.4484579, testloss = 0.6445307, acc =  0.675\n",
      "step 515:  trainloss = 0.4455066, testloss = 0.7096075, acc =  0.525\n",
      "step 520:  trainloss = 0.4552325, testloss = 0.6397753, acc =  0.675\n",
      "step 525:  trainloss = 0.3883463, testloss = 0.6414040, acc =  0.675\n",
      "step 530:  trainloss = 0.4801638, testloss = 0.6541446, acc =  0.675\n",
      "step 535:  trainloss = 0.4350788, testloss = 0.7229429, acc =  0.525\n",
      "step 540:  trainloss = 0.3560287, testloss = 0.6415523, acc =  0.675\n",
      "step 545:  trainloss = 0.4903556, testloss = 0.6419919, acc =  0.675\n",
      "step 550:  trainloss = 0.4055533, testloss = 0.7252011, acc =  0.575\n",
      "step 555:  trainloss = 0.3713424, testloss = 0.7306907, acc =  0.525\n",
      "step 560:  trainloss = 0.3840906, testloss = 0.6525227, acc =  0.675\n",
      "step 565:  trainloss = 0.3982714, testloss = 0.6543165, acc =  0.675\n",
      "step 570:  trainloss = 0.3654070, testloss = 0.6579047, acc =  0.675\n",
      "step 575:  trainloss = 0.4341587, testloss = 0.7391274, acc =  0.525\n",
      "step 580:  trainloss = 0.3816761, testloss = 0.6492519, acc =  0.700\n",
      "step 585:  trainloss = 0.3951192, testloss = 0.7455124, acc =  0.550\n",
      "step 590:  trainloss = 0.4700184, testloss = 0.7526659, acc =  0.525\n",
      "step 595:  trainloss = 0.3828561, testloss = 0.6555220, acc =  0.675\n",
      "step 600:  trainloss = 0.5096237, testloss = 0.7600929, acc =  0.525\n",
      "step 605:  trainloss = 0.3277372, testloss = 0.7655638, acc =  0.525\n",
      "step 610:  trainloss = 0.4123267, testloss = 0.7687824, acc =  0.500\n",
      "step 615:  trainloss = 0.3726832, testloss = 0.6700484, acc =  0.675\n",
      "step 620:  trainloss = 0.2988611, testloss = 0.6610994, acc =  0.675\n",
      "step 625:  trainloss = 0.4143082, testloss = 0.6585321, acc =  0.700\n",
      "step 630:  trainloss = 0.2772399, testloss = 0.7762811, acc =  0.500\n",
      "step 635:  trainloss = 0.2836201, testloss = 0.7842228, acc =  0.500\n",
      "step 640:  trainloss = 0.3618520, testloss = 0.7942525, acc =  0.500\n",
      "step 645:  trainloss = 0.2699102, testloss = 0.6824948, acc =  0.650\n",
      "step 650:  trainloss = 0.2939607, testloss = 0.6734260, acc =  0.675\n",
      "step 655:  trainloss = 0.3259899, testloss = 0.6780337, acc =  0.650\n",
      "step 660:  trainloss = 0.3202085, testloss = 0.6724085, acc =  0.675\n",
      "step 665:  trainloss = 0.3407800, testloss = 0.6750091, acc =  0.675\n",
      "step 670:  trainloss = 0.3559984, testloss = 0.8287403, acc =  0.525\n",
      "step 675:  trainloss = 0.3298748, testloss = 0.7278442, acc =  0.700\n",
      "step 680:  trainloss = 0.3545529, testloss = 0.6778609, acc =  0.725\n",
      "step 685:  trainloss = 0.2690778, testloss = 0.8438471, acc =  0.525\n",
      "step 690:  trainloss = 0.3077603, testloss = 0.8405565, acc =  0.550\n",
      "step 695:  trainloss = 0.2001158, testloss = 0.7491398, acc =  0.700\n",
      "step 700:  trainloss = 0.2248638, testloss = 0.7349699, acc =  0.700\n",
      "step 705:  trainloss = 0.2367438, testloss = 0.8591945, acc =  0.550\n",
      "step 710:  trainloss = 0.2174659, testloss = 0.8669301, acc =  0.550\n",
      "step 715:  trainloss = 0.3176009, testloss = 0.7043462, acc =  0.675\n",
      "step 720:  trainloss = 0.2006942, testloss = 0.8815458, acc =  0.550\n",
      "step 725:  trainloss = 0.1768115, testloss = 0.8919638, acc =  0.525\n",
      "step 730:  trainloss = 0.2051594, testloss = 0.7599435, acc =  0.700\n",
      "step 735:  trainloss = 0.1450395, testloss = 0.9099822, acc =  0.525\n",
      "step 740:  trainloss = 0.2227566, testloss = 0.7151798, acc =  0.650\n",
      "step 745:  trainloss = 0.1964864, testloss = 0.7296959, acc =  0.650\n",
      "step 750:  trainloss = 0.2552492, testloss = 0.7551129, acc =  0.700\n",
      "CPU times: user 2h 4min 16s, sys: 4min 37s, total: 2h 8min 54s\n",
      "Wall time: 19min 39s\n"
     ]
    }
   ],
   "source": [
    "%%time\n",
    "\n",
    "for step in range(250):\n",
    "    summ_, train_loss_, test_loss_, _, acc_\\\n",
    "    = sess.run([summaries, train_loss,\n",
    "                            test_loss, optim, acc])\n",
    "    writer.add_summary(summ_, step+500)\n",
    "    if step % 5 == 4:\n",
    "        print(\"step {:3}:  trainloss = {:8.7f},\\\n",
    " testloss = {:8.7f}, acc = {:6.3f}\".format(step+501, train_loss_, test_loss_, acc_))\n",
    "    \n",
    "    trainloss.append(train_loss_)\n",
    "    testloss.append(test_loss_)\n",
    "    accs.append(acc_)"
   ]
  },
  {
   "cell_type": "code",
   "execution_count": 149,
   "metadata": {},
   "outputs": [
    {
     "data": {
      "image/png": "[encoded data removed]",
      "text/plain": [
       "<matplotlib.figure.Figure at 0x7f7eb120d048>"
      ]
     },
     "metadata": {},
     "output_type": "display_data"
    }
   ],
   "source": [
    "plt.plot(trainloss, 'b-', label='train loss')\n",
    "plt.plot(testloss, 'r-', label='test loss')\n",
    "\n",
    "plt.plot(np.ones(len(trainloss))*np.log(2), 'g-', label='50%')\n",
    "\n",
    "plt.ylim([0.2, 0.9])\n",
    "plt.legend()\n",
    "plt.show()"
   ]
  },
  {
   "cell_type": "code",
   "execution_count": 143,
   "metadata": {
    "collapsed": true
   },
   "outputs": [],
   "source": [
    "sess.close()"
   ]
  },
  {
   "cell_type": "code",
   "execution_count": null,
   "metadata": {
    "collapsed": true
   },
   "outputs": [],
   "source": []
  }
 ],
 "metadata": {
  "kernelspec": {
   "display_name": "Python (proj3)",
   "language": "python",
   "name": "proj3"
  },
  "language_info": {
   "codemirror_mode": {
    "name": "ipython",
    "version": 3
   },
   "file_extension": ".py",
   "mimetype": "text/x-python",
   "name": "python",
   "nbconvert_exporter": "python",
   "pygments_lexer": "ipython3",
   "version": "3.6.3"
  }
 },
 "nbformat": 4,
 "nbformat_minor": 2
}
