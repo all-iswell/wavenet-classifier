{
 "cells": [
  {
   "cell_type": "markdown",
   "metadata": {},
   "source": [
    "## purpose\n",
    "* Build a classifier to distinguish between laughing and crying sounds"
   ]
  },
  {
   "cell_type": "markdown",
   "metadata": {},
   "source": [
    "## possible requirements\n",
    "* Audio data playback/manipulation/saving within ipython/jupyter\n",
    "* packages:\n",
    "  * librosa\n",
    "* dataset creation:\n",
    "  * crawling freesound.org (mp3 or wav?)\n",
    "  * normalization\n",
    "    * duration\n",
    "    * levels?\n",
    "    * sample rate?\n",
    "  "
   ]
  }
 ],
 "metadata": {
  "kernelspec": {
   "display_name": "Python 3",
   "language": "python",
   "name": "python3"
  },
  "language_info": {
   "codemirror_mode": {
    "name": "ipython",
    "version": 3
   },
   "file_extension": ".py",
   "mimetype": "text/x-python",
   "name": "python",
   "nbconvert_exporter": "python",
   "pygments_lexer": "ipython3",
   "version": "3.6.3"
  }
 },
 "nbformat": 4,
 "nbformat_minor": 2
}
