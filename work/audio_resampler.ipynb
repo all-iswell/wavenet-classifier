{
 "cells": [
  {
   "cell_type": "markdown",
   "metadata": {},
   "source": [
    "## function to get shorter excerpt of samples\n",
    "### criterion: highest stdev in `range_` samples"
   ]
  },
  {
   "cell_type": "code",
   "execution_count": 235,
   "metadata": {
    "collapsed": true
   },
   "outputs": [],
   "source": [
    "def get_excerpt(arr, range_=10, grain=10, get='excerpt', include_idx=False):\n",
    "    # assume arr is 1-D ndarray\n",
    "    stds = []\n",
    "\n",
    "    # approximate with rough grain for faster execution\n",
    "    # restrict right end for full excerpt\n",
    "    for i in range(0, len(arr)-range_, grain):\n",
    "        stds.append(arr[i:i+range_].std())\n",
    "\n",
    "    stds = np.array(stds)\n",
    "    max_idx = np.argmax(stds)*grain\n",
    "    #print(stds, stds.max(), max_idx)\n",
    "    #print(str(max_idx)[:-2], end=' ')\n",
    "    \n",
    "    excerpt = arr[max_idx:max_idx+range_]\n",
    "    \n",
    "    if include_idx:\n",
    "        excerpt = np.concatenate([np.array([max_idx]), excerpt], axis=0)\n",
    "    \n",
    "    \n",
    "    return eval(get)"
   ]
  },
  {
   "cell_type": "markdown",
   "metadata": {},
   "source": [
    "## get data and truncate"
   ]
  },
  {
   "cell_type": "code",
   "execution_count": 179,
   "metadata": {
    "scrolled": true
   },
   "outputs": [
    {
     "name": "stdout",
     "output_type": "stream",
     "text": [
      "CPU times: user 1min 49s, sys: 1.06 s, total: 1min 50s\n",
      "Wall time: 1min 50s\n"
     ]
    }
   ],
   "source": [
    "%%time\n",
    "df_data = pd.read_csv('../../projects/proj3/_data/combined_csv/180116_87300samp_cry386_laugh703_with_ids_mu_law.csv')"
   ]
  },
  {
   "cell_type": "code",
   "execution_count": 249,
   "metadata": {},
   "outputs": [
    {
     "name": "stdout",
     "output_type": "stream",
     "text": [
      "CPU times: user 5.72 s, sys: 220 ms, total: 5.94 s\n",
      "Wall time: 5.94 s\n"
     ]
    }
   ],
   "source": [
    "%%time\n",
    "\n",
    "new_data = []\n",
    "\n",
    "for idx, row in df_data.iterrows():\n",
    "    new_data.append(get_excerpt(np.array(row[1:-1]), range_=3600, grain=500, include_idx=True))"
   ]
  },
  {
   "cell_type": "code",
   "execution_count": 256,
   "metadata": {},
   "outputs": [],
   "source": [
    "new_data = np.array(new_data)\n",
    "new_data_idces = new_data[:, 0]\n",
    "new_data = new_data[:, 1:]\n",
    "\n",
    "df_new = pd.concat([df_data['sound_id'],\n",
    "           pd.Series(new_data_idces, dtype=np.int32, name='start_idx'),\n",
    "           pd.DataFrame(new_data),\n",
    "           df_data['laugh']],\n",
    "          axis=1)"
   ]
  },
  {
   "cell_type": "markdown",
   "metadata": {},
   "source": [
    "### save new df"
   ]
  },
  {
   "cell_type": "code",
   "execution_count": 263,
   "metadata": {},
   "outputs": [
    {
     "name": "stdout",
     "output_type": "stream",
     "text": [
      "CPU times: user 2.27 s, sys: 89.5 ms, total: 2.36 s\n",
      "Wall time: 2.48 s\n"
     ]
    }
   ],
   "source": [
    "%%time\n",
    "df_new.to_csv('../../projects/proj3/_data/combined_csv/180126_3600samp_cry386_laugh703_with_ids_mu_law.csv',\n",
    "             index=False)"
   ]
  },
  {
   "cell_type": "markdown",
   "metadata": {},
   "source": [
    "## check saved file"
   ]
  },
  {
   "cell_type": "code",
   "execution_count": 264,
   "metadata": {},
   "outputs": [
    {
     "name": "stdout",
     "output_type": "stream",
     "text": [
      "CPU times: user 596 ms, sys: 15.9 ms, total: 612 ms\n",
      "Wall time: 622 ms\n"
     ]
    }
   ],
   "source": [
    "%%time\n",
    "df_new = pd.read_csv('../../projects/proj3/_data/combined_csv/180126_3600samp_cry386_laugh703_with_ids_mu_law.csv')"
   ]
  },
  {
   "cell_type": "code",
   "execution_count": 265,
   "metadata": {},
   "outputs": [
    {
     "data": {
      "text/html": [
       "<div>\n",
       "<style>\n",
       "    .dataframe thead tr:only-child th {\n",
       "        text-align: right;\n",
       "    }\n",
       "\n",
       "    .dataframe thead th {\n",
       "        text-align: left;\n",
       "    }\n",
       "\n",
       "    .dataframe tbody tr th {\n",
       "        vertical-align: top;\n",
       "    }\n",
       "</style>\n",
       "<table border=\"1\" class=\"dataframe\">\n",
       "  <thead>\n",
       "    <tr style=\"text-align: right;\">\n",
       "      <th></th>\n",
       "      <th>sound_id</th>\n",
       "      <th>start_idx</th>\n",
       "      <th>0</th>\n",
       "      <th>1</th>\n",
       "      <th>2</th>\n",
       "      <th>3</th>\n",
       "      <th>4</th>\n",
       "      <th>5</th>\n",
       "      <th>6</th>\n",
       "      <th>7</th>\n",
       "      <th>...</th>\n",
       "      <th>3591</th>\n",
       "      <th>3592</th>\n",
       "      <th>3593</th>\n",
       "      <th>3594</th>\n",
       "      <th>3595</th>\n",
       "      <th>3596</th>\n",
       "      <th>3597</th>\n",
       "      <th>3598</th>\n",
       "      <th>3599</th>\n",
       "      <th>laugh</th>\n",
       "    </tr>\n",
       "  </thead>\n",
       "  <tbody>\n",
       "    <tr>\n",
       "      <th>98</th>\n",
       "      <td>80375</td>\n",
       "      <td>20500</td>\n",
       "      <td>33.0</td>\n",
       "      <td>34.0</td>\n",
       "      <td>39.0</td>\n",
       "      <td>49.0</td>\n",
       "      <td>66.0</td>\n",
       "      <td>124.0</td>\n",
       "      <td>190.0</td>\n",
       "      <td>202.0</td>\n",
       "      <td>...</td>\n",
       "      <td>204.0</td>\n",
       "      <td>190.0</td>\n",
       "      <td>104.0</td>\n",
       "      <td>58.0</td>\n",
       "      <td>44.0</td>\n",
       "      <td>37.0</td>\n",
       "      <td>35.0</td>\n",
       "      <td>35.0</td>\n",
       "      <td>38.0</td>\n",
       "      <td>0.0</td>\n",
       "    </tr>\n",
       "    <tr>\n",
       "      <th>302</th>\n",
       "      <td>263402</td>\n",
       "      <td>68000</td>\n",
       "      <td>70.0</td>\n",
       "      <td>68.0</td>\n",
       "      <td>70.0</td>\n",
       "      <td>68.0</td>\n",
       "      <td>64.0</td>\n",
       "      <td>63.0</td>\n",
       "      <td>60.0</td>\n",
       "      <td>55.0</td>\n",
       "      <td>...</td>\n",
       "      <td>203.0</td>\n",
       "      <td>203.0</td>\n",
       "      <td>203.0</td>\n",
       "      <td>206.0</td>\n",
       "      <td>208.0</td>\n",
       "      <td>205.0</td>\n",
       "      <td>202.0</td>\n",
       "      <td>205.0</td>\n",
       "      <td>208.0</td>\n",
       "      <td>0.0</td>\n",
       "    </tr>\n",
       "    <tr>\n",
       "      <th>606</th>\n",
       "      <td>20688</td>\n",
       "      <td>19000</td>\n",
       "      <td>60.0</td>\n",
       "      <td>89.0</td>\n",
       "      <td>148.0</td>\n",
       "      <td>119.0</td>\n",
       "      <td>67.0</td>\n",
       "      <td>51.0</td>\n",
       "      <td>50.0</td>\n",
       "      <td>52.0</td>\n",
       "      <td>...</td>\n",
       "      <td>48.0</td>\n",
       "      <td>71.0</td>\n",
       "      <td>194.0</td>\n",
       "      <td>205.0</td>\n",
       "      <td>184.0</td>\n",
       "      <td>60.0</td>\n",
       "      <td>51.0</td>\n",
       "      <td>69.0</td>\n",
       "      <td>192.0</td>\n",
       "      <td>1.0</td>\n",
       "    </tr>\n",
       "  </tbody>\n",
       "</table>\n",
       "<p>3 rows × 3603 columns</p>\n",
       "</div>"
      ],
      "text/plain": [
       "     sound_id  start_idx     0     1      2      3     4      5      6      7  \\\n",
       "98      80375      20500  33.0  34.0   39.0   49.0  66.0  124.0  190.0  202.0   \n",
       "302    263402      68000  70.0  68.0   70.0   68.0  64.0   63.0   60.0   55.0   \n",
       "606     20688      19000  60.0  89.0  148.0  119.0  67.0   51.0   50.0   52.0   \n",
       "\n",
       "     ...     3591   3592   3593   3594   3595   3596   3597   3598   3599  \\\n",
       "98   ...    204.0  190.0  104.0   58.0   44.0   37.0   35.0   35.0   38.0   \n",
       "302  ...    203.0  203.0  203.0  206.0  208.0  205.0  202.0  205.0  208.0   \n",
       "606  ...     48.0   71.0  194.0  205.0  184.0   60.0   51.0   69.0  192.0   \n",
       "\n",
       "     laugh  \n",
       "98     0.0  \n",
       "302    0.0  \n",
       "606    1.0  \n",
       "\n",
       "[3 rows x 3603 columns]"
      ]
     },
     "execution_count": 265,
     "metadata": {},
     "output_type": "execute_result"
    }
   ],
   "source": [
    "df_new.sample(3)"
   ]
  },
  {
   "cell_type": "code",
   "execution_count": 266,
   "metadata": {},
   "outputs": [
    {
     "data": {
      "text/plain": [
       "(1089, 3603)"
      ]
     },
     "execution_count": 266,
     "metadata": {},
     "output_type": "execute_result"
    }
   ],
   "source": [
    "df_new.shape"
   ]
  }
 ],
 "metadata": {
  "kernelspec": {
   "display_name": "Python (proj3)",
   "language": "python",
   "name": "proj3"
  },
  "language_info": {
   "codemirror_mode": {
    "name": "ipython",
    "version": 3
   },
   "file_extension": ".py",
   "mimetype": "text/x-python",
   "name": "python",
   "nbconvert_exporter": "python",
   "pygments_lexer": "ipython3",
   "version": "3.6.3"
  }
 },
 "nbformat": 4,
 "nbformat_minor": 2
}
