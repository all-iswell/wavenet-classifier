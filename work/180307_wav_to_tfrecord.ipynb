{
 "cells": [
  {
   "cell_type": "code",
   "execution_count": 1,
   "metadata": {},
   "outputs": [
    {
     "name": "stderr",
     "output_type": "stream",
     "text": [
      "/home/aeatda/anaconda3/envs/proj3/lib/python3.6/importlib/_bootstrap.py:219: RuntimeWarning: compiletime version 3.5 of module 'tensorflow.python.framework.fast_tensor_util' does not match runtime version 3.6\n",
      "  return f(*args, **kwds)\n",
      "/home/aeatda/anaconda3/envs/proj3/lib/python3.6/site-packages/pydub/utils.py:165: RuntimeWarning: Couldn't find ffmpeg or avconv - defaulting to ffmpeg, but may not work\n",
      "  warn(\"Couldn't find ffmpeg or avconv - defaulting to ffmpeg, but may not work\", RuntimeWarning)\n"
     ]
    }
   ],
   "source": [
    "import tensorflow as tf\n",
    "import sys\n",
    "import os\n",
    "import re\n",
    "import pydub as pdb"
   ]
  },
  {
   "cell_type": "code",
   "execution_count": 2,
   "metadata": {
    "collapsed": true
   },
   "outputs": [],
   "source": [
    "def get_array(filetype='wav'):\n",
    "    namelist, dflist, ylist = [], [], []\n",
    "    for category in ['on', 'off']:\n",
    "        cat_path = '../_data/{}/'.format(category)\n",
    "        names = [name for name in os.listdir(cat_path)\n",
    "                     if re.search(r'\\.{}$'.format(filetype), name)]\n",
    "        for name in names:\n",
    "            f1 = pdb.AudioSegment.from_wav(cat_path+name).get_array_of_samples().tolist()\n",
    "            if len(f1) == 16000:\n",
    "                namelist.append(name[:-4])\n",
    "                dflist.append(f1)\n",
    "                ylist.append(category=='on')\n",
    "    return namelist, dflist, ylist"
   ]
  },
  {
   "cell_type": "code",
   "execution_count": 3,
   "metadata": {
    "collapsed": true
   },
   "outputs": [],
   "source": [
    "def mu_encode(x, mu=255, bitdepth=16):\n",
    "    x = np.divide(x, np.power(2, bitdepth-1))\n",
    "    x_scale = np.sign(x) * np.log(1 + mu*np.abs(x)) / np.log(1 + mu)\n",
    "    return np.round((x_scale + 1) / 2 * mu)"
   ]
  },
  {
   "cell_type": "code",
   "execution_count": 4,
   "metadata": {},
   "outputs": [
    {
     "name": "stdout",
     "output_type": "stream",
     "text": [
      "CPU times: user 7.42 s, sys: 2.37 s, total: 9.79 s\n",
      "Wall time: 11.9 s\n"
     ]
    }
   ],
   "source": [
    "%%time\n",
    "namelist, dflist, ylist = get_array()\n",
    "\n",
    "df_mu = pd.DataFrame(mu_encode(np.array(dflist)), columns=range(1, 16001))\n",
    "df_mu.insert(0, 0, namelist)\n",
    "df_mu.insert(16001, 16001, ylist)"
   ]
  },
  {
   "cell_type": "code",
   "execution_count": 5,
   "metadata": {},
   "outputs": [
    {
     "data": {
      "text/plain": [
       "(4248, 16002)"
      ]
     },
     "execution_count": 5,
     "metadata": {},
     "output_type": "execute_result"
    }
   ],
   "source": [
    "df_mu.shape"
   ]
  },
  {
   "cell_type": "code",
   "execution_count": 5,
   "metadata": {
    "collapsed": true
   },
   "outputs": [],
   "source": [
    "df_s = df_mu.sample(frac=1).reset_index()"
   ]
  },
  {
   "cell_type": "code",
   "execution_count": 6,
   "metadata": {
    "collapsed": true
   },
   "outputs": [],
   "source": [
    "del df_s[0]"
   ]
  },
  {
   "cell_type": "code",
   "execution_count": 7,
   "metadata": {
    "collapsed": true
   },
   "outputs": [],
   "source": [
    "df_train = df_s.iloc[:4000, :].copy()\n",
    "df_test = df_s.iloc[4000:4240, :].copy()\n",
    "\n",
    "df_train_val = df_train.values.astype(np.int64)\n",
    "df_test_val = df_test.values.astype(np.int64)"
   ]
  },
  {
   "cell_type": "code",
   "execution_count": 8,
   "metadata": {
    "collapsed": true
   },
   "outputs": [],
   "source": [
    "data_path0 = '../_data/tfrecords/sample_{}_16000_{}.tfrecord'\n",
    "\n",
    "def write_tfrecord(arr, topic='onoff', name='train'):\n",
    "    global data_path0\n",
    "    data_path = data_path0.format(topic, name)\n",
    "    print(data_path)\n",
    "    num_samples = arr.shape[1] - 2\n",
    "\n",
    "    with tf.python_io.TFRecordWriter(data_path) as writer:\n",
    "        for row in arr:\n",
    "            idx, samples, y\\\n",
    "            = row[0], row[1:-1], row[-1]\n",
    "\n",
    "            example = tf.train.Example()\n",
    "            example.features.feature[\"idx\"].int64_list.value.append(idx)\n",
    "            example.features.feature[\"samples\"].float_list.value.extend(samples)\n",
    "            example.features.feature[\"y\"].float_list.value.append(y)\n",
    "\n",
    "            writer.write(example.SerializeToString())\n",
    "    return"
   ]
  },
  {
   "cell_type": "code",
   "execution_count": 9,
   "metadata": {},
   "outputs": [
    {
     "name": "stdout",
     "output_type": "stream",
     "text": [
      "../_data/tfrecords/sample_onoff_16000_train.tfrecord\n",
      "CPU times: user 12.4 s, sys: 126 ms, total: 12.5 s\n",
      "Wall time: 14.3 s\n"
     ]
    }
   ],
   "source": [
    "%%time\n",
    "write_tfrecord(df_train_val, name='train')"
   ]
  },
  {
   "cell_type": "code",
   "execution_count": 10,
   "metadata": {},
   "outputs": [
    {
     "name": "stdout",
     "output_type": "stream",
     "text": [
      "../_data/tfrecords/sample_onoff_16000_test.tfrecord\n",
      "CPU times: user 754 ms, sys: 12.7 ms, total: 767 ms\n",
      "Wall time: 854 ms\n"
     ]
    }
   ],
   "source": [
    "%%time\n",
    "write_tfrecord(df_test_val, name='test')"
   ]
  },
  {
   "cell_type": "code",
   "execution_count": 11,
   "metadata": {
    "collapsed": true
   },
   "outputs": [],
   "source": [
    "num_samples = 16000"
   ]
  },
  {
   "cell_type": "code",
   "execution_count": 12,
   "metadata": {
    "collapsed": true
   },
   "outputs": [],
   "source": [
    "def parser(serialized_example):\n",
    "    features = {\n",
    "        'idx' : tf.FixedLenFeature([1], tf.int64),\n",
    "        'samples': tf.FixedLenFeature([num_samples], tf.float32),\n",
    "        'y' : tf.FixedLenFeature([1], tf.float32)\n",
    "    }\n",
    "    parsed_feature = tf.parse_single_example(serialized_example, features)\n",
    "    samples = parsed_feature['samples']\n",
    "    y = parsed_feature['y']\n",
    "    idx = parsed_feature['idx']\n",
    "    return idx, samples, y\n",
    "\n",
    "def get_tfrecord(topic='onoff', name='train', sample_size=16000, batch_size=1, buffer_size=5000,\n",
    "                 repeat=1, seed=None):\n",
    "    dataset = tf.data.TFRecordDataset(data_path0.format(topic, name)).map(parser)\n",
    "    dataset = dataset.batch(batch_size)\n",
    "    dataset = dataset.shuffle(buffer_size, seed=seed)\n",
    "    dataset = dataset.repeat(repeat)\n",
    "    return dataset"
   ]
  },
  {
   "cell_type": "code",
   "execution_count": 12,
   "metadata": {
    "collapsed": true
   },
   "outputs": [],
   "source": [
    "def get_tfrecord(topic='onoff', name='train', sample_size=16000, batch_size=1, buffer_size=5000,\n",
    "                 repeat=1, seed=None, data_path=None):\n",
    "    def parser(serialized_example):\n",
    "        features = {\n",
    "            'idx' : tf.FixedLenFeature([1], tf.int64),\n",
    "            'samples': tf.FixedLenFeature([sample_size], tf.float32),\n",
    "            'y' : tf.FixedLenFeature([1], tf.float32)\n",
    "        }\n",
    "        parsed_feature = tf.parse_single_example(serialized_example, features)\n",
    "        samples = parsed_feature['samples']\n",
    "        y = parsed_feature['y']\n",
    "        idx = parsed_feature['idx']\n",
    "        return idx, samples, y\n",
    "    \n",
    "    dataset = tf.data.TFRecordDataset(data_path.format(topic, sample_size, name)).map(parser)\n",
    "    dataset = dataset.batch(batch_size)\n",
    "    dataset = dataset.shuffle(buffer_size, seed=seed)\n",
    "    dataset = dataset.repeat(repeat)\n",
    "    return dataset"
   ]
  },
  {
   "cell_type": "code",
   "execution_count": 13,
   "metadata": {
    "collapsed": true
   },
   "outputs": [],
   "source": [
    "data_train = get_tfrecord(batch_size=1, seed=0)\n",
    "itr = data_train.make_one_shot_iterator()\n",
    "idx, sample_batch, y = itr.get_next()\n",
    "sample_batch = tf.reshape(sample_batch, [-1, sample_batch.shape[1], 1])"
   ]
  },
  {
   "cell_type": "code",
   "execution_count": 14,
   "metadata": {
    "collapsed": true
   },
   "outputs": [],
   "source": [
    "sess = tf.Session()\n",
    "idces, batches, ys = [], [], []"
   ]
  },
  {
   "cell_type": "code",
   "execution_count": 15,
   "metadata": {
    "collapsed": true
   },
   "outputs": [],
   "source": [
    "i, bat, yy = sess.run([idx, sample_batch, y])\n",
    "idces.extend(i)\n",
    "batches.extend(bat)\n",
    "ys.extend(yy)"
   ]
  },
  {
   "cell_type": "code",
   "execution_count": 16,
   "metadata": {},
   "outputs": [
    {
     "data": {
      "text/plain": [
       "[array([ 0.], dtype=float32)]"
      ]
     },
     "execution_count": 16,
     "metadata": {},
     "output_type": "execute_result"
    }
   ],
   "source": [
    "ys"
   ]
  }
 ],
 "metadata": {
  "kernelspec": {
   "display_name": "Python (proj3)",
   "language": "python",
   "name": "proj3"
  },
  "language_info": {
   "codemirror_mode": {
    "name": "ipython",
    "version": 3
   },
   "file_extension": ".py",
   "mimetype": "text/x-python",
   "name": "python",
   "nbconvert_exporter": "python",
   "pygments_lexer": "ipython3",
   "version": "3.6.3"
  }
 },
 "nbformat": 4,
 "nbformat_minor": 2
}
